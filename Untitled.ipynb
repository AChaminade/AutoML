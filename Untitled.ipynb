{
 "cells": [
  {
   "cell_type": "code",
   "execution_count": 1,
   "id": "6f4eb130",
   "metadata": {},
   "outputs": [],
   "source": [
    "import pandas as pd\n",
    "import numpy as np\n",
    "from sklearn.model_selection import train_test_split, cross_val_score\n",
    "from sklearn.metrics import roc_auc_score, roc_curve, auc, f1_score, mean_squared_error\n",
    "from xgboost import XGBClassifier\n",
    "import tqdm\n",
    "import matplotlib.pyplot as plt\n",
    "from IPython.display import clear_output\n",
    "\n",
    "from src.feature_selection import genetic_algorithm\n",
    "from src.model_list import classification\n",
    "from src.utils import identify_columns"
   ]
  },
  {
   "cell_type": "code",
   "execution_count": 2,
   "id": "d9839ff6",
   "metadata": {},
   "outputs": [],
   "source": [
    "data = pd.read_csv('titanic.csv')"
   ]
  },
  {
   "cell_type": "code",
   "execution_count": 3,
   "id": "a7e33530",
   "metadata": {},
   "outputs": [
    {
     "data": {
      "text/html": [
       "<div>\n",
       "<style scoped>\n",
       "    .dataframe tbody tr th:only-of-type {\n",
       "        vertical-align: middle;\n",
       "    }\n",
       "\n",
       "    .dataframe tbody tr th {\n",
       "        vertical-align: top;\n",
       "    }\n",
       "\n",
       "    .dataframe thead th {\n",
       "        text-align: right;\n",
       "    }\n",
       "</style>\n",
       "<table border=\"1\" class=\"dataframe\">\n",
       "  <thead>\n",
       "    <tr style=\"text-align: right;\">\n",
       "      <th></th>\n",
       "      <th>PassengerId</th>\n",
       "      <th>Survived</th>\n",
       "      <th>Pclass</th>\n",
       "      <th>Name</th>\n",
       "      <th>Sex</th>\n",
       "      <th>Age</th>\n",
       "      <th>SibSp</th>\n",
       "      <th>Parch</th>\n",
       "      <th>Ticket</th>\n",
       "      <th>Fare</th>\n",
       "      <th>Cabin</th>\n",
       "      <th>Embarked</th>\n",
       "    </tr>\n",
       "  </thead>\n",
       "  <tbody>\n",
       "    <tr>\n",
       "      <th>0</th>\n",
       "      <td>1</td>\n",
       "      <td>0</td>\n",
       "      <td>3</td>\n",
       "      <td>Braund, Mr. Owen Harris</td>\n",
       "      <td>male</td>\n",
       "      <td>22.0</td>\n",
       "      <td>1</td>\n",
       "      <td>0</td>\n",
       "      <td>A/5 21171</td>\n",
       "      <td>7.2500</td>\n",
       "      <td>NaN</td>\n",
       "      <td>S</td>\n",
       "    </tr>\n",
       "    <tr>\n",
       "      <th>1</th>\n",
       "      <td>2</td>\n",
       "      <td>1</td>\n",
       "      <td>1</td>\n",
       "      <td>Cumings, Mrs. John Bradley (Florence Briggs Th...</td>\n",
       "      <td>female</td>\n",
       "      <td>38.0</td>\n",
       "      <td>1</td>\n",
       "      <td>0</td>\n",
       "      <td>PC 17599</td>\n",
       "      <td>71.2833</td>\n",
       "      <td>C85</td>\n",
       "      <td>C</td>\n",
       "    </tr>\n",
       "    <tr>\n",
       "      <th>2</th>\n",
       "      <td>3</td>\n",
       "      <td>1</td>\n",
       "      <td>3</td>\n",
       "      <td>Heikkinen, Miss. Laina</td>\n",
       "      <td>female</td>\n",
       "      <td>26.0</td>\n",
       "      <td>0</td>\n",
       "      <td>0</td>\n",
       "      <td>STON/O2. 3101282</td>\n",
       "      <td>7.9250</td>\n",
       "      <td>NaN</td>\n",
       "      <td>S</td>\n",
       "    </tr>\n",
       "    <tr>\n",
       "      <th>3</th>\n",
       "      <td>4</td>\n",
       "      <td>1</td>\n",
       "      <td>1</td>\n",
       "      <td>Futrelle, Mrs. Jacques Heath (Lily May Peel)</td>\n",
       "      <td>female</td>\n",
       "      <td>35.0</td>\n",
       "      <td>1</td>\n",
       "      <td>0</td>\n",
       "      <td>113803</td>\n",
       "      <td>53.1000</td>\n",
       "      <td>C123</td>\n",
       "      <td>S</td>\n",
       "    </tr>\n",
       "    <tr>\n",
       "      <th>4</th>\n",
       "      <td>5</td>\n",
       "      <td>0</td>\n",
       "      <td>3</td>\n",
       "      <td>Allen, Mr. William Henry</td>\n",
       "      <td>male</td>\n",
       "      <td>35.0</td>\n",
       "      <td>0</td>\n",
       "      <td>0</td>\n",
       "      <td>373450</td>\n",
       "      <td>8.0500</td>\n",
       "      <td>NaN</td>\n",
       "      <td>S</td>\n",
       "    </tr>\n",
       "    <tr>\n",
       "      <th>...</th>\n",
       "      <td>...</td>\n",
       "      <td>...</td>\n",
       "      <td>...</td>\n",
       "      <td>...</td>\n",
       "      <td>...</td>\n",
       "      <td>...</td>\n",
       "      <td>...</td>\n",
       "      <td>...</td>\n",
       "      <td>...</td>\n",
       "      <td>...</td>\n",
       "      <td>...</td>\n",
       "      <td>...</td>\n",
       "    </tr>\n",
       "    <tr>\n",
       "      <th>886</th>\n",
       "      <td>887</td>\n",
       "      <td>0</td>\n",
       "      <td>2</td>\n",
       "      <td>Montvila, Rev. Juozas</td>\n",
       "      <td>male</td>\n",
       "      <td>27.0</td>\n",
       "      <td>0</td>\n",
       "      <td>0</td>\n",
       "      <td>211536</td>\n",
       "      <td>13.0000</td>\n",
       "      <td>NaN</td>\n",
       "      <td>S</td>\n",
       "    </tr>\n",
       "    <tr>\n",
       "      <th>887</th>\n",
       "      <td>888</td>\n",
       "      <td>1</td>\n",
       "      <td>1</td>\n",
       "      <td>Graham, Miss. Margaret Edith</td>\n",
       "      <td>female</td>\n",
       "      <td>19.0</td>\n",
       "      <td>0</td>\n",
       "      <td>0</td>\n",
       "      <td>112053</td>\n",
       "      <td>30.0000</td>\n",
       "      <td>B42</td>\n",
       "      <td>S</td>\n",
       "    </tr>\n",
       "    <tr>\n",
       "      <th>888</th>\n",
       "      <td>889</td>\n",
       "      <td>0</td>\n",
       "      <td>3</td>\n",
       "      <td>Johnston, Miss. Catherine Helen \"Carrie\"</td>\n",
       "      <td>female</td>\n",
       "      <td>NaN</td>\n",
       "      <td>1</td>\n",
       "      <td>2</td>\n",
       "      <td>W./C. 6607</td>\n",
       "      <td>23.4500</td>\n",
       "      <td>NaN</td>\n",
       "      <td>S</td>\n",
       "    </tr>\n",
       "    <tr>\n",
       "      <th>889</th>\n",
       "      <td>890</td>\n",
       "      <td>1</td>\n",
       "      <td>1</td>\n",
       "      <td>Behr, Mr. Karl Howell</td>\n",
       "      <td>male</td>\n",
       "      <td>26.0</td>\n",
       "      <td>0</td>\n",
       "      <td>0</td>\n",
       "      <td>111369</td>\n",
       "      <td>30.0000</td>\n",
       "      <td>C148</td>\n",
       "      <td>C</td>\n",
       "    </tr>\n",
       "    <tr>\n",
       "      <th>890</th>\n",
       "      <td>891</td>\n",
       "      <td>0</td>\n",
       "      <td>3</td>\n",
       "      <td>Dooley, Mr. Patrick</td>\n",
       "      <td>male</td>\n",
       "      <td>32.0</td>\n",
       "      <td>0</td>\n",
       "      <td>0</td>\n",
       "      <td>370376</td>\n",
       "      <td>7.7500</td>\n",
       "      <td>NaN</td>\n",
       "      <td>Q</td>\n",
       "    </tr>\n",
       "  </tbody>\n",
       "</table>\n",
       "<p>891 rows × 12 columns</p>\n",
       "</div>"
      ],
      "text/plain": [
       "     PassengerId  Survived  Pclass  \\\n",
       "0              1         0       3   \n",
       "1              2         1       1   \n",
       "2              3         1       3   \n",
       "3              4         1       1   \n",
       "4              5         0       3   \n",
       "..           ...       ...     ...   \n",
       "886          887         0       2   \n",
       "887          888         1       1   \n",
       "888          889         0       3   \n",
       "889          890         1       1   \n",
       "890          891         0       3   \n",
       "\n",
       "                                                  Name     Sex   Age  SibSp  \\\n",
       "0                              Braund, Mr. Owen Harris    male  22.0      1   \n",
       "1    Cumings, Mrs. John Bradley (Florence Briggs Th...  female  38.0      1   \n",
       "2                               Heikkinen, Miss. Laina  female  26.0      0   \n",
       "3         Futrelle, Mrs. Jacques Heath (Lily May Peel)  female  35.0      1   \n",
       "4                             Allen, Mr. William Henry    male  35.0      0   \n",
       "..                                                 ...     ...   ...    ...   \n",
       "886                              Montvila, Rev. Juozas    male  27.0      0   \n",
       "887                       Graham, Miss. Margaret Edith  female  19.0      0   \n",
       "888           Johnston, Miss. Catherine Helen \"Carrie\"  female   NaN      1   \n",
       "889                              Behr, Mr. Karl Howell    male  26.0      0   \n",
       "890                                Dooley, Mr. Patrick    male  32.0      0   \n",
       "\n",
       "     Parch            Ticket     Fare Cabin Embarked  \n",
       "0        0         A/5 21171   7.2500   NaN        S  \n",
       "1        0          PC 17599  71.2833   C85        C  \n",
       "2        0  STON/O2. 3101282   7.9250   NaN        S  \n",
       "3        0            113803  53.1000  C123        S  \n",
       "4        0            373450   8.0500   NaN        S  \n",
       "..     ...               ...      ...   ...      ...  \n",
       "886      0            211536  13.0000   NaN        S  \n",
       "887      0            112053  30.0000   B42        S  \n",
       "888      2        W./C. 6607  23.4500   NaN        S  \n",
       "889      0            111369  30.0000  C148        C  \n",
       "890      0            370376   7.7500   NaN        Q  \n",
       "\n",
       "[891 rows x 12 columns]"
      ]
     },
     "execution_count": 3,
     "metadata": {},
     "output_type": "execute_result"
    }
   ],
   "source": [
    "data"
   ]
  },
  {
   "cell_type": "code",
   "execution_count": 4,
   "id": "91f727de",
   "metadata": {},
   "outputs": [],
   "source": [
    "data['Cabin'] = data['Cabin'].fillna('Unknown')\n",
    "data['Embarked'] = data['Embarked'].fillna('Unknown')\n",
    "data['Age'] = data['Age'].fillna(data['Age'].median())"
   ]
  },
  {
   "cell_type": "code",
   "execution_count": 5,
   "id": "82b4bc46",
   "metadata": {},
   "outputs": [],
   "source": [
    "X = data.drop(columns = 'Survived')\n",
    "y = data['Survived']"
   ]
  },
  {
   "cell_type": "code",
   "execution_count": 6,
   "id": "b1f9784c",
   "metadata": {},
   "outputs": [],
   "source": [
    "num_cols, cat_cols = identify_columns(X)"
   ]
  },
  {
   "cell_type": "code",
   "execution_count": 7,
   "id": "a6090d72",
   "metadata": {},
   "outputs": [],
   "source": [
    "for i in cat_cols:\n",
    "    X[i] = X[i].astype('category')"
   ]
  },
  {
   "cell_type": "code",
   "execution_count": null,
   "id": "7b316125",
   "metadata": {},
   "outputs": [],
   "source": []
  },
  {
   "cell_type": "code",
   "execution_count": 8,
   "id": "cc17605f",
   "metadata": {},
   "outputs": [],
   "source": [
    "X_train, X_test, y_train, y_test = train_test_split(X, y, test_size = 0.15, random_state = 42)"
   ]
  },
  {
   "cell_type": "code",
   "execution_count": null,
   "id": "79ab7499",
   "metadata": {},
   "outputs": [],
   "source": []
  },
  {
   "cell_type": "code",
   "execution_count": null,
   "id": "58239d45",
   "metadata": {},
   "outputs": [],
   "source": []
  },
  {
   "cell_type": "code",
   "execution_count": null,
   "id": "4c13b938",
   "metadata": {},
   "outputs": [],
   "source": []
  },
  {
   "cell_type": "code",
   "execution_count": 9,
   "id": "a449314c",
   "metadata": {},
   "outputs": [
    {
     "data": {
      "image/png": "[encoded data removed]",
      "text/plain": [
       "<Figure size 1200x600 with 1 Axes>"
      ]
     },
     "metadata": {},
     "output_type": "display_data"
    },
    {
     "name": "stderr",
     "output_type": "stream",
     "text": [
      "100%|██████████| 20/20 [00:28<00:00,  1.43s/it]\n"
     ]
    },
    {
     "data": {
      "image/png": "[encoded data removed]",
      "text/plain": [
       "<Figure size 640x480 with 1 Axes>"
      ]
     },
     "metadata": {},
     "output_type": "display_data"
    }
   ],
   "source": [
    "population_size = 30\n",
    "num_generations = 20\n",
    "tournament_size = 2\n",
    "\n",
    "best_features = genetic_algorithm(\n",
    "    X_train, \n",
    "    X_test, \n",
    "    y_train, \n",
    "    y_test, \n",
    "    population_size, \n",
    "    num_generations, \n",
    "    tournament_size,\n",
    "    'classification',\n",
    "    2\n",
    ")"
   ]
  },
  {
   "cell_type": "code",
   "execution_count": 10,
   "id": "a6baace5",
   "metadata": {},
   "outputs": [
    {
     "data": {
      "text/plain": [
       "['PassengerId', 'Pclass', 'Name', 'Sex', 'Age', 'SibSp', 'Parch']"
      ]
     },
     "execution_count": 10,
     "metadata": {},
     "output_type": "execute_result"
    }
   ],
   "source": [
    "best_features"
   ]
  },
  {
   "cell_type": "code",
   "execution_count": 11,
   "id": "59da8018",
   "metadata": {},
   "outputs": [],
   "source": [
    "select_cat_cols = [i for i in best_features if i in cat_cols]"
   ]
  },
  {
   "cell_type": "code",
   "execution_count": 12,
   "id": "06266a92",
   "metadata": {},
   "outputs": [
    {
     "data": {
      "text/plain": [
       "['Name', 'Sex']"
      ]
     },
     "execution_count": 12,
     "metadata": {},
     "output_type": "execute_result"
    }
   ],
   "source": [
    "select_cat_cols"
   ]
  },
  {
   "cell_type": "code",
   "execution_count": null,
   "id": "5887b0c2",
   "metadata": {},
   "outputs": [],
   "source": []
  },
  {
   "cell_type": "code",
   "execution_count": null,
   "id": "71b2de94",
   "metadata": {},
   "outputs": [],
   "source": []
  },
  {
   "cell_type": "code",
   "execution_count": 13,
   "id": "1cd568b7",
   "metadata": {},
   "outputs": [],
   "source": [
    "X_train = X_train[best_features]\n",
    "X_test = X_test[best_features]"
   ]
  },
  {
   "cell_type": "code",
   "execution_count": null,
   "id": "842b05b7",
   "metadata": {},
   "outputs": [],
   "source": []
  },
  {
   "cell_type": "code",
   "execution_count": null,
   "id": "b2b6bec0",
   "metadata": {},
   "outputs": [],
   "source": []
  },
  {
   "cell_type": "code",
   "execution_count": 14,
   "id": "82e70e50",
   "metadata": {},
   "outputs": [],
   "source": [
    "def select_best_model(models, X_train, y_train, cat_cols = [], random_state = 42):\n",
    "    if cat_cols:\n",
    "        models = models[-2:]\n",
    "\n",
    "    best_score = 0\n",
    "    best_model = None\n",
    "\n",
    "    for model in models:\n",
    "        # Validación cruzada\n",
    "        if 'CatBoost' in model.__name__:\n",
    "            model_ = model(cat_features = cat_cols, verbose = 0, random_state = random_state)\n",
    "        else:\n",
    "            try:\n",
    "                model_ = model(verbose = -1, random_state = random_state)\n",
    "            except:\n",
    "                model_ = model()\n",
    "        \n",
    "        scores = cross_val_score(model_, X_train, y_train, cv = 5)\n",
    "        mean_score = scores.mean()\n",
    "        print(f\"Modelo: {model.__name__}, Puntuación Media: {mean_score}\")\n",
    "\n",
    "        if mean_score > best_score:\n",
    "            best_score = mean_score\n",
    "            best_model = model\n",
    "\n",
    "    return best_model.__name__"
   ]
  },
  {
   "cell_type": "code",
   "execution_count": 15,
   "id": "f48a76c1",
   "metadata": {},
   "outputs": [
    {
     "name": "stdout",
     "output_type": "stream",
     "text": [
      "Modelo: LGBMClassifier, Puntuación Media: 0.791242593238062\n",
      "Modelo: CatBoostClassifier, Puntuación Media: 0.8018560474032764\n",
      "Mejor Modelo: CatBoostClassifier\n"
     ]
    }
   ],
   "source": [
    "# Seleccionar el mejor modelo\n",
    "best_model = select_best_model(classification, X_train, y_train, select_cat_cols)\n",
    "print(f\"Mejor Modelo: {best_model}\")"
   ]
  },
  {
   "cell_type": "code",
   "execution_count": null,
   "id": "e0c7c0ca",
   "metadata": {},
   "outputs": [],
   "source": []
  },
  {
   "cell_type": "code",
   "execution_count": null,
   "id": "c9a79406",
   "metadata": {},
   "outputs": [],
   "source": []
  },
  {
   "cell_type": "code",
   "execution_count": 22,
   "id": "ee9fc208",
   "metadata": {},
   "outputs": [
    {
     "data": {
      "text/plain": [
       "array([0.        , 0.03571429, 0.07142857, 0.10714286, 0.14285714,\n",
       "       0.17857143, 0.21428571, 0.25      , 0.28571429, 0.32142857,\n",
       "       0.35714286, 0.39285714, 0.42857143, 0.46428571, 0.5       ])"
      ]
     },
     "execution_count": 22,
     "metadata": {},
     "output_type": "execute_result"
    }
   ],
   "source": [
    "np.linspace(0, 0.5, 15)"
   ]
  },
  {
   "cell_type": "code",
   "execution_count": 30,
   "id": "8805f4ef",
   "metadata": {},
   "outputs": [
    {
     "name": "stderr",
     "output_type": "stream",
     "text": [
      "100%|██████████| 5/5 [13:01<00:00, 156.30s/it]\n"
     ]
    },
    {
     "name": "stdout",
     "output_type": "stream",
     "text": [
      "Mejores hiperparámetros: {'cat_features': ['Name', 'Sex'], 'learning_rate': 0.07999999999999999, 'n_estimators': 100, 'max_depth': 5}\n"
     ]
    }
   ],
   "source": [
    "import numpy as np\n",
    "import random\n",
    "from sklearn.model_selection import cross_val_score\n",
    "from catboost import CatBoostClassifier\n",
    "\n",
    "# Definición de hiperparámetros\n",
    "hyperparameters = {\n",
    "    'cat_features': [select_cat_cols],\n",
    "    'learning_rate': np.linspace(0.01, 0.5, 15),\n",
    "    'n_estimators': [10, 50, 100, 200],\n",
    "    'max_depth': [1, 5, 15, 16],\n",
    "}\n",
    "\n",
    "# Función para crear un individuo\n",
    "def create_individual(hyperparameters):\n",
    "    return {k: random.choice(v) for k, v in hyperparameters.items()}\n",
    "\n",
    "# Función para evaluar un individuo\n",
    "def evaluate_individual(individual, model, X, y):\n",
    "    model.set_params(**individual)\n",
    "    scores = cross_val_score(model, X, y, cv=3)\n",
    "    return np.mean(scores)\n",
    "\n",
    "# Función para cruzar dos individuos\n",
    "def crossover(individual1, individual2):\n",
    "    child = individual1.copy()\n",
    "    for param in individual2:\n",
    "        if random.random() > 0.5:\n",
    "            child[param] = individual2[param]\n",
    "    return child\n",
    "\n",
    "# Función para mutar un individuo\n",
    "def mutate(individual, hyperparameters):\n",
    "    mutation_param = random.choice(list(hyperparameters.keys()))\n",
    "    individual[mutation_param] = random.choice(hyperparameters[mutation_param])\n",
    "    return individual\n",
    "\n",
    "# Función para seleccionar la siguiente generación\n",
    "def select_population_tournament(population, fitness, num_parents, tournament_size=3):\n",
    "    selected_parents = []\n",
    "    for _ in range(num_parents):\n",
    "        # Seleccionar individuos aleatoriamente para el torneo\n",
    "        tournament_indices = np.random.choice(len(population), tournament_size, replace=False)\n",
    "        tournament_individuals = [population[i] for i in tournament_indices]\n",
    "        tournament_fitness = [fitness[i] for i in tournament_indices]\n",
    "\n",
    "        # Encontrar el mejor individuo en el torneo\n",
    "        best_in_tournament_idx = np.argmax(tournament_fitness)\n",
    "        selected_parents.append(tournament_individuals[best_in_tournament_idx])\n",
    "\n",
    "    return selected_parents\n",
    "\n",
    "# Algoritmo genético\n",
    "def genetic_algorithm_tournament(hyperparameters, model, X, y, population_size=20, num_parents=10, \n",
    "                                 generations=5, mutation_rate=0.2, tournament_size=3):\n",
    "    population = [create_individual(hyperparameters) for _ in range(population_size)]\n",
    "    \n",
    "    for _ in tqdm.tqdm(range(generations)):\n",
    "        fitness = [evaluate_individual(individual, model, X, y) for individual in population]\n",
    "        parents = select_population_tournament(population, fitness, num_parents, tournament_size)\n",
    "\n",
    "        # Crear la siguiente generación mediante cruce y mutación\n",
    "        next_population = parents.copy()\n",
    "        while len(next_population) < population_size:\n",
    "            parent1, parent2 = random.sample(parents, 2)\n",
    "            child = crossover(parent1, parent2)\n",
    "            if random.random() < mutation_rate:\n",
    "                child = mutate(child, hyperparameters)\n",
    "            next_population.append(child)\n",
    "\n",
    "        population = next_population\n",
    "\n",
    "    # Retornar el mejor individuo\n",
    "    best_fitness = [evaluate_individual(individual, model, X, y) for individual in population]\n",
    "    best_index = np.argmax(best_fitness)\n",
    "    return population[best_index]\n",
    "\n",
    "# Ejemplo de uso\n",
    "model = CatBoostClassifier(verbose = 0)\n",
    "best_hyperparameters = genetic_algorithm_tournament(hyperparameters, model, X_train, y_train)\n",
    "print(\"Mejores hiperparámetros:\", best_hyperparameters)"
   ]
  },
  {
   "cell_type": "code",
   "execution_count": null,
   "id": "b451e257",
   "metadata": {},
   "outputs": [],
   "source": []
  }
 ],
 "metadata": {
  "kernelspec": {
   "display_name": "Python 3 (ipykernel)",
   "language": "python",
   "name": "python3"
  },
  "language_info": {
   "codemirror_mode": {
    "name": "ipython",
    "version": 3
   },
   "file_extension": ".py",
   "mimetype": "text/x-python",
   "name": "python",
   "nbconvert_exporter": "python",
   "pygments_lexer": "ipython3",
   "version": "3.10.12"
  }
 },
 "nbformat": 4,
 "nbformat_minor": 5
}
